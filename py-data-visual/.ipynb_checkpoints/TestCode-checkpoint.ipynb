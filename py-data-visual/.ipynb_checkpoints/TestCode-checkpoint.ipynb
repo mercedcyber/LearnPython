{
 "cells": [
  {
   "cell_type": "code",
   "execution_count": null,
   "id": "d5c8e980",
   "metadata": {},
   "outputs": [],
   "source": [
    "import leather"
   ]
  },
  {
   "cell_type": "code",
   "execution_count": null,
   "id": "c30555b0",
   "metadata": {},
   "outputs": [],
   "source": [
    "import pygame"
   ]
  },
  {
   "cell_type": "markdown",
   "id": "b27522ad",
   "metadata": {},
   "source": [
    "## Fixing deprecation warning\n",
    "1. Downgrading to ipython 7.10.0 by running\n",
    "```bash\n",
    "pip3 install install ipython==7.10.0\n",
    "```"
   ]
  },
  {
   "cell_type": "code",
   "execution_count": null,
   "id": "0e8073a9",
   "metadata": {},
   "outputs": [],
   "source": [
    "data1 = ([1.5, 2], [2,3], [4.5,6], [7.5, 4])"
   ]
  },
  {
   "cell_type": "code",
   "execution_count": null,
   "id": "b01ea407",
   "metadata": {},
   "outputs": [],
   "source": [
    "chart = leather.Chart('Simple pairs of x-y')"
   ]
  },
  {
   "cell_type": "code",
   "execution_count": null,
   "id": "61a42caa",
   "metadata": {},
   "outputs": [],
   "source": [
    "chart.add_dots(data1)"
   ]
  },
  {
   "cell_type": "code",
   "execution_count": null,
   "id": "7cbd6667",
   "metadata": {},
   "outputs": [],
   "source": [
    "chart.to_svg()"
   ]
  },
  {
   "cell_type": "code",
   "execution_count": null,
   "id": "87b3b0b1",
   "metadata": {},
   "outputs": [],
   "source": []
  },
  {
   "cell_type": "code",
   "execution_count": null,
   "id": "2a83b1d3",
   "metadata": {},
   "outputs": [],
   "source": []
  },
  {
   "cell_type": "code",
   "execution_count": null,
   "id": "7aa2e6c8",
   "metadata": {},
   "outputs": [],
   "source": []
  },
  {
   "cell_type": "code",
   "execution_count": null,
   "id": "27e7ccab",
   "metadata": {},
   "outputs": [],
   "source": []
  }
 ],
 "metadata": {
  "kernelspec": {
   "display_name": "Python 3",
   "language": "python",
   "name": "python3"
  },
  "language_info": {
   "codemirror_mode": {
    "name": "ipython",
    "version": 3
   },
   "file_extension": ".py",
   "mimetype": "text/x-python",
   "name": "python",
   "nbconvert_exporter": "python",
   "pygments_lexer": "ipython3",
   "version": "3.8.5"
  }
 },
 "nbformat": 4,
 "nbformat_minor": 5
}
