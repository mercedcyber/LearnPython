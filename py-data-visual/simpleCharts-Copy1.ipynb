{
 "cells": [
  {
   "cell_type": "code",
   "execution_count": null,
   "id": "d5c8e980",
   "metadata": {},
   "outputs": [],
   "source": [
    "import leather"
   ]
  },
  {
   "cell_type": "code",
   "execution_count": null,
   "id": "c30555b0",
   "metadata": {},
   "outputs": [],
   "source": [
    "import pygame"
   ]
  },
  {
   "cell_type": "markdown",
   "id": "b27522ad",
   "metadata": {},
   "source": [
    "## Fixing deprecation warning\n",
    "1. Downgrading to ipython 7.10.0 by running\n",
    "```bash\n",
    "pip3 install install ipython==7.10.0\n",
    "```"
   ]
  },
  {
   "cell_type": "code",
   "execution_count": null,
   "id": "0e8073a9",
   "metadata": {},
   "outputs": [],
   "source": [
    "data1 = ([1.5, 2], [2,3], [4.5,6], [7.5, 4])"
   ]
  },
  {
   "cell_type": "code",
   "execution_count": null,
   "id": "b01ea407",
   "metadata": {},
   "outputs": [],
   "source": [
    "chart = leather.Chart('Simple pairs of x-y')"
   ]
  },
  {
   "cell_type": "code",
   "execution_count": null,
   "id": "61a42caa",
   "metadata": {},
   "outputs": [],
   "source": [
    "chart.add_dots(data1)"
   ]
  },
  {
   "cell_type": "code",
   "execution_count": null,
   "id": "7cbd6667",
   "metadata": {},
   "outputs": [],
   "source": [
    "chart.to_svg()"
   ]
  },
  {
   "cell_type": "code",
   "execution_count": 1,
   "id": "87b3b0b1",
   "metadata": {},
   "outputs": [
    {
     "name": "stdout",
     "output_type": "stream",
     "text": [
      "Register a callback to execute when the button is clicked.\n",
      "\n",
      "        The callback will be called with one argument, the clicked button\n",
      "        widget instance.\n",
      "\n",
      "        Parameters\n",
      "        ----------\n",
      "        remove: bool (optional)\n",
      "            Set to true to remove the callback from the list of callbacks.\n",
      "        \n"
     ]
    }
   ],
   "source": [
    "import ipywidgets as widgets\n",
    "print(widgets.Button.on_click.__doc__)"
   ]
  },
  {
   "cell_type": "code",
   "execution_count": 16,
   "id": "2a83b1d3",
   "metadata": {},
   "outputs": [
    {
     "data": {
      "application/vnd.jupyter.widget-view+json": {
       "model_id": "c6cb3306ce0f49e6a149d095b2017dae",
       "version_major": 2,
       "version_minor": 0
      },
      "text/plain": [
       "Button(description='Click Me!', style=ButtonStyle())"
      ]
     },
     "metadata": {},
     "output_type": "display_data"
    },
    {
     "data": {
      "application/vnd.jupyter.widget-view+json": {
       "model_id": "95384297c6784361b135b2168d71cce5",
       "version_major": 2,
       "version_minor": 0
      },
      "text/plain": [
       "Output()"
      ]
     },
     "metadata": {},
     "output_type": "display_data"
    }
   ],
   "source": [
    "from IPython.display import display\n",
    "button = widgets.Button(description=\"Click Me!\")\n",
    "output = widgets.Output()\n",
    "\n",
    "display(button, output)\n",
    "\n",
    "def on_button_clicked(b):\n",
    "    with output:\n",
    "        !cd ..\n",
    "        !git add .\n",
    "        !git commit -m \"update 3\"\n",
    "        !git push -u origin master\n",
    "\n",
    "button.on_click(on_button_clicked)\n",
    "\n"
   ]
  },
  {
   "cell_type": "code",
   "execution_count": 13,
   "id": "7aa2e6c8",
   "metadata": {},
   "outputs": [
    {
     "name": "stdout",
     "output_type": "stream",
     "text": [
      "C:\\Users\\ramigony\\Documents\\LearnPython\\py-data-visual\n"
     ]
    }
   ],
   "source": [
    "\n",
    "!echo %cd%\n"
   ]
  },
  {
   "cell_type": "code",
   "execution_count": null,
   "id": "27e7ccab",
   "metadata": {},
   "outputs": [],
   "source": []
  }
 ],
 "metadata": {
  "kernelspec": {
   "display_name": "Python 3",
   "language": "python",
   "name": "python3"
  },
  "language_info": {
   "codemirror_mode": {
    "name": "ipython",
    "version": 3
   },
   "file_extension": ".py",
   "mimetype": "text/x-python",
   "name": "python",
   "nbconvert_exporter": "python",
   "pygments_lexer": "ipython3",
   "version": "3.8.8"
  }
 },
 "nbformat": 4,
 "nbformat_minor": 5
}
