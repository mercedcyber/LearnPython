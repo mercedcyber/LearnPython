{
 "cells": [
  {
   "cell_type": "code",
   "execution_count": 1,
   "id": "2ff06e5a",
   "metadata": {},
   "outputs": [],
   "source": [
    "import leather"
   ]
  },
  {
   "cell_type": "code",
   "execution_count": 2,
   "id": "cf794db9",
   "metadata": {},
   "outputs": [
    {
     "name": "stdout",
     "output_type": "stream",
     "text": [
      "pygame 2.0.1 (SDL 2.0.14, Python 3.8.8)\n",
      "Hello from the pygame community. https://www.pygame.org/contribute.html\n"
     ]
    }
   ],
   "source": [
    "import pygame"
   ]
  },
  {
   "cell_type": "markdown",
   "id": "5049f8b8",
   "metadata": {},
   "source": [
    "## Fixing deprecation warning\n",
    "1. Downgrading to ipython 7.10.0 by running\n",
    "```bash\n",
    "pip3 install install ipython==7.10.0\n",
    "```"
   ]
  },
  {
   "cell_type": "code",
   "execution_count": 3,
   "id": "a1402747",
   "metadata": {},
   "outputs": [],
   "source": [
    "data1 = ([1.5, 2], [2,3], [4.5,6], [7.5, 4])"
   ]
  },
  {
   "cell_type": "code",
   "execution_count": 4,
   "id": "1185507c",
   "metadata": {},
   "outputs": [],
   "source": [
    "chart = leather.Chart('Simple pairs of x-y')"
   ]
  },
  {
   "cell_type": "code",
   "execution_count": 5,
   "id": "daaea6f3",
   "metadata": {},
   "outputs": [],
   "source": [
    "chart.add_dots(data1)"
   ]
  },
  {
   "cell_type": "code",
   "execution_count": 6,
   "id": "9924e0a9",
   "metadata": {},
   "outputs": [
    {
     "data": {
      "image/svg+xml": [
       "<svg xmlns=\"http://www.w3.org/2000/svg\" width=\"800\" height=\"600\" version=\"1.1\"><g><rect x=\"0\" y=\"0\" width=\"800\" height=\"600\" fill=\"#f9f9f9\"/><g transform=\"translate(40 40)\"><g transform=\"translate(16 0)\"><text x=\"0\" y=\"0\" fill=\"#333\" font-family=\"Monaco\" font-size=\"16\">Simple pairs of x-y</text></g><g transform=\"translate(0 20)\"><g transform=\"translate(16 0)\"><g class=\"axis bottom\"><g class=\"tick\"><line x1=\"234.6666666666666666666666666\" y1=\"0\" x2=\"234.6666666666666666666666666\" y2=\"482.0\" stroke=\"#eee\" stroke-width=\"1\"/><text x=\"234.6666666666666666666666666\" y=\"486.0\" dy=\"1em\" fill=\"#9c9c9c\" text-anchor=\"middle\" font-family=\"Monaco\">2.5</text></g><g class=\"tick\"><line x1=\"469.3333333333333333333333334\" y1=\"0\" x2=\"469.3333333333333333333333334\" y2=\"482.0\" stroke=\"#eee\" stroke-width=\"1\"/><text x=\"469.3333333333333333333333334\" y=\"486.0\" dy=\"1em\" fill=\"#9c9c9c\" text-anchor=\"middle\" font-family=\"Monaco\">5</text></g><g class=\"tick\"><line x1=\"704\" y1=\"0\" x2=\"704\" y2=\"482.0\" stroke=\"#eee\" stroke-width=\"1\"/><text x=\"704\" y=\"486.0\" dy=\"1em\" fill=\"#9c9c9c\" text-anchor=\"middle\" font-family=\"Monaco\">7.5</text></g><g class=\"tick\"><line x1=\"0\" y1=\"0\" x2=\"0\" y2=\"482.0\" stroke=\"#a8a8a8\" stroke-width=\"1\"/><text x=\"0\" y=\"486.0\" dy=\"1em\" fill=\"#9c9c9c\" text-anchor=\"middle\" font-family=\"Monaco\">0</text></g></g><g class=\"axis left\"><g class=\"tick\"><line x1=\"-4\" y1=\"478\" x2=\"704.0\" y2=\"478\" stroke=\"#eee\" stroke-width=\"1\"/><text x=\"-8\" y=\"478\" dy=\"0.32em\" fill=\"#9c9c9c\" text-anchor=\"end\" font-family=\"Monaco\">2</text></g><g class=\"tick\"><line x1=\"-4\" y1=\"358.50\" x2=\"704.0\" y2=\"358.50\" stroke=\"#eee\" stroke-width=\"1\"/><text x=\"-8\" y=\"358.50\" dy=\"0.32em\" fill=\"#9c9c9c\" text-anchor=\"end\" font-family=\"Monaco\">3</text></g><g class=\"tick\"><line x1=\"-4\" y1=\"239.0\" x2=\"704.0\" y2=\"239.0\" stroke=\"#eee\" stroke-width=\"1\"/><text x=\"-8\" y=\"239.0\" dy=\"0.32em\" fill=\"#9c9c9c\" text-anchor=\"end\" font-family=\"Monaco\">4</text></g><g class=\"tick\"><line x1=\"-4\" y1=\"119.50\" x2=\"704.0\" y2=\"119.50\" stroke=\"#eee\" stroke-width=\"1\"/><text x=\"-8\" y=\"119.50\" dy=\"0.32em\" fill=\"#9c9c9c\" text-anchor=\"end\" font-family=\"Monaco\">5</text></g><g class=\"tick\"><line x1=\"-4\" y1=\"0\" x2=\"704.0\" y2=\"0\" stroke=\"#eee\" stroke-width=\"1\"/><text x=\"-8\" y=\"0\" dy=\"0.32em\" fill=\"#9c9c9c\" text-anchor=\"end\" font-family=\"Monaco\">6</text></g></g><g><g class=\"series dots\"><circle cx=\"140.8\" cy=\"478\" r=\"3\" fill=\"#e41a1c\"/><circle cx=\"187.7333333333333333333333334\" cy=\"358.50\" r=\"3\" fill=\"#e41a1c\"/><circle cx=\"422.4\" cy=\"0\" r=\"3\" fill=\"#e41a1c\"/><circle cx=\"704\" cy=\"239.0\" r=\"3\" fill=\"#e41a1c\"/></g></g></g></g></g></g></svg>"
      ],
      "text/plain": [
       "<IPython.core.display.SVG object>"
      ]
     },
     "execution_count": 6,
     "metadata": {},
     "output_type": "execute_result"
    }
   ],
   "source": [
    "chart.to_svg()"
   ]
  },
  {
   "cell_type": "code",
   "execution_count": null,
   "id": "86f9975a",
   "metadata": {},
   "outputs": [],
   "source": []
  },
  {
   "cell_type": "code",
   "execution_count": null,
   "id": "aa5a3169",
   "metadata": {},
   "outputs": [],
   "source": []
  }
 ],
 "metadata": {
  "kernelspec": {
   "display_name": "Python 3",
   "language": "python",
   "name": "python3"
  },
  "language_info": {
   "codemirror_mode": {
    "name": "ipython",
    "version": 3
   },
   "file_extension": ".py",
   "mimetype": "text/x-python",
   "name": "python",
   "nbconvert_exporter": "python",
   "pygments_lexer": "ipython3",
   "version": "3.8.8"
  }
 },
 "nbformat": 4,
 "nbformat_minor": 5
}
