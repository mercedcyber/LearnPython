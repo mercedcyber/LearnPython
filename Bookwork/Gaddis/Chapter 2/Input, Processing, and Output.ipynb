{
 "cells": [
  {
   "cell_type": "markdown",
   "metadata": {},
   "source": [
    "Ramiro Gonzalez "
   ]
  },
  {
   "cell_type": "markdown",
   "metadata": {},
   "source": [
    "Chapter 2"
   ]
  },
  {
   "cell_type": "markdown",
   "metadata": {},
   "source": [
    "Gaddis, T. (2019). Starting out with Python. New York, NY: Pearson"
   ]
  },
  {
   "cell_type": "code",
   "execution_count": 1,
   "metadata": {},
   "outputs": [
    {
     "name": "stdout",
     "output_type": "stream",
     "text": [
      "Hello, world\n"
     ]
    }
   ],
   "source": [
    "print(\"Hello, world\");"
   ]
  },
  {
   "cell_type": "code",
   "execution_count": 2,
   "metadata": {},
   "outputs": [
    {
     "name": "stdout",
     "output_type": "stream",
     "text": [
      "Kate Austen\n",
      "123 Full Circle Drive\n",
      "Ashevill, NC 28899\n"
     ]
    }
   ],
   "source": [
    "print('Kate Austen')\n",
    "print('123 Full Circle Drive')\n",
    "print('Ashevill, NC 28899')"
   ]
  },
  {
   "cell_type": "code",
   "execution_count": 3,
   "metadata": {},
   "outputs": [
    {
     "name": "stdout",
     "output_type": "stream",
     "text": [
      "Your assignment is to read \"Hamlet\" by tomorrow.\n"
     ]
    }
   ],
   "source": [
    "print('Your assignment is to read \"Hamlet\" by tomorrow.')"
   ]
  },
  {
   "cell_type": "code",
   "execution_count": 4,
   "metadata": {},
   "outputs": [
    {
     "name": "stdout",
     "output_type": "stream",
     "text": [
      "I'm reading \"Hamlet\" tonight.\n"
     ]
    }
   ],
   "source": [
    "print(\"\"\"I'm reading \"Hamlet\" tonight.\"\"\")"
   ]
  },
  {
   "cell_type": "code",
   "execution_count": 5,
   "metadata": {},
   "outputs": [
    {
     "name": "stdout",
     "output_type": "stream",
     "text": [
      "One \n",
      "Two \n",
      "Three \n"
     ]
    }
   ],
   "source": [
    "print(\"\"\"One \n",
    "Two \n",
    "Three \"\"\")"
   ]
  },
  {
   "cell_type": "code",
   "execution_count": 6,
   "metadata": {},
   "outputs": [
    {
     "name": "stdout",
     "output_type": "stream",
     "text": [
      "Kate Austen\n",
      "123 Full Circle Drive\n",
      "Asheville, NC 28899\n"
     ]
    }
   ],
   "source": [
    "# This program displays a person's\n",
    "# name and address\n",
    "print('Kate Austen')\n",
    "print('123 Full Circle Drive')\n",
    "print('Asheville, NC 28899')"
   ]
  },
  {
   "cell_type": "code",
   "execution_count": 7,
   "metadata": {},
   "outputs": [
    {
     "name": "stdout",
     "output_type": "stream",
     "text": [
      "I am staying in room number 503\n"
     ]
    }
   ],
   "source": [
    "room= 503\n",
    "print('I am staying in room number',room)"
   ]
  },
  {
   "cell_type": "code",
   "execution_count": 8,
   "metadata": {},
   "outputs": [
    {
     "name": "stdout",
     "output_type": "stream",
     "text": [
      "I have 2.27 in my account.\n",
      "But now I have 99.95 in my account\n"
     ]
    }
   ],
   "source": [
    "dollars = 2.27;\n",
    "print('I have',dollars,'in my account.')\n",
    "dollars = 99.95;\n",
    "print('But now I have',dollars,'in my account')"
   ]
  },
  {
   "cell_type": "code",
   "execution_count": 9,
   "metadata": {},
   "outputs": [
    {
     "name": "stdout",
     "output_type": "stream",
     "text": [
      "Hey, What is your nameRamiro\n"
     ]
    }
   ],
   "source": [
    "variable = input(\"Hey, What is your name\");"
   ]
  },
  {
   "cell_type": "code",
   "execution_count": 10,
   "metadata": {},
   "outputs": [
    {
     "data": {
      "text/plain": [
       "'Ramiro'"
      ]
     },
     "execution_count": 10,
     "metadata": {},
     "output_type": "execute_result"
    }
   ],
   "source": [
    "variable"
   ]
  },
  {
   "cell_type": "code",
   "execution_count": 11,
   "metadata": {},
   "outputs": [
    {
     "name": "stdout",
     "output_type": "stream",
     "text": [
      "Enter your first name: ramiro\n",
      "Enter your last name: gonzalez\n",
      "Hello ramiro gonzalez\n"
     ]
    }
   ],
   "source": [
    "first_name = input('Enter your first name: ')\n",
    "last_name = input('Enter your last name: ')\n",
    "print('Hello',first_name, last_name)"
   ]
  },
  {
   "cell_type": "code",
   "execution_count": 12,
   "metadata": {},
   "outputs": [
    {
     "name": "stdout",
     "output_type": "stream",
     "text": [
      "How many hours did you work? galvez\n"
     ]
    },
    {
     "ename": "ValueError",
     "evalue": "invalid literal for int() with base 10: 'galvez'",
     "output_type": "error",
     "traceback": [
      "\u001b[1;31m---------------------------------------------------------------------------\u001b[0m",
      "\u001b[1;31mValueError\u001b[0m                                Traceback (most recent call last)",
      "\u001b[1;32m<ipython-input-12-eed6b7ae59e8>\u001b[0m in \u001b[0;36m<module>\u001b[1;34m()\u001b[0m\n\u001b[0;32m      1\u001b[0m \u001b[0mstring_value\u001b[0m \u001b[1;33m=\u001b[0m \u001b[0minput\u001b[0m\u001b[1;33m(\u001b[0m\u001b[1;34m'How many hours did you work? '\u001b[0m\u001b[1;33m)\u001b[0m\u001b[1;33m\u001b[0m\u001b[0m\n\u001b[1;32m----> 2\u001b[1;33m \u001b[0mhours\u001b[0m \u001b[1;33m=\u001b[0m \u001b[0mint\u001b[0m\u001b[1;33m(\u001b[0m\u001b[0mstring_value\u001b[0m\u001b[1;33m)\u001b[0m\u001b[1;33m\u001b[0m\u001b[0m\n\u001b[0m\u001b[0;32m      3\u001b[0m \u001b[0mhours\u001b[0m \u001b[1;33m=\u001b[0m \u001b[0mint\u001b[0m\u001b[1;33m(\u001b[0m\u001b[0minput\u001b[0m\u001b[1;33m(\u001b[0m\u001b[1;34m'How many hours did you work? '\u001b[0m\u001b[1;33m)\u001b[0m\u001b[1;33m)\u001b[0m\u001b[1;33m\u001b[0m\u001b[0m\n",
      "\u001b[1;31mValueError\u001b[0m: invalid literal for int() with base 10: 'galvez'"
     ]
    }
   ],
   "source": [
    "string_value = input('How many hours did you work? ')\n",
    "hours = int(string_value)\n",
    "hours = int(input('How many hours did you work? '))"
   ]
  },
  {
   "cell_type": "code",
   "execution_count": 13,
   "metadata": {},
   "outputs": [
    {
     "name": "stdout",
     "output_type": "stream",
     "text": [
      "Enter a number of seconds3\n",
      "Here is the time in hours, minutes, and seconds: \n",
      "Hours: 0.0\n",
      "Minutes:  0.0\n",
      "Seconds:  3.0\n"
     ]
    }
   ],
   "source": [
    "total_seconds = float(input('Enter a number of seconds'))\n",
    "hours = total_seconds//3600; \n",
    "minutes = (total_seconds//60)%60\n",
    "seconds = total_seconds%60\n",
    "print('Here is the time in hours, minutes, and seconds: ')\n",
    "print('Hours:',hours)\n",
    "print('Minutes: ',minutes)\n",
    "print('Seconds: ',seconds)"
   ]
  },
  {
   "cell_type": "code",
   "execution_count": 14,
   "metadata": {},
   "outputs": [
    {
     "name": "stdout",
     "output_type": "stream",
     "text": [
      "We sold 4 for a total of 4\n"
     ]
    }
   ],
   "source": [
    "units_sold = 4; sales_amount = 4;\n",
    "print('We sold',units_sold, \\\n",
    "     'for a total of',sales_amount)"
   ]
  },
  {
   "cell_type": "code",
   "execution_count": 15,
   "metadata": {},
   "outputs": [
    {
     "name": "stdout",
     "output_type": "stream",
     "text": [
      "One Two Three\n"
     ]
    }
   ],
   "source": [
    "print('One', end=' ')\n",
    "print('Two', end=' ')\n",
    "print('Three')"
   ]
  },
  {
   "cell_type": "code",
   "execution_count": 16,
   "metadata": {},
   "outputs": [
    {
     "name": "stdout",
     "output_type": "stream",
     "text": [
      "One*Two*Three\n"
     ]
    }
   ],
   "source": [
    "print('One','Two','Three', sep = '*')"
   ]
  },
  {
   "cell_type": "code",
   "execution_count": 17,
   "metadata": {},
   "outputs": [
    {
     "name": "stdout",
     "output_type": "stream",
     "text": [
      "Mon\tTues\tWed\n",
      "Thur\tFri\tSat\n"
     ]
    }
   ],
   "source": [
    "print('Mon\\tTues\\tWed')\n",
    "print('Thur\\tFri\\tSat')"
   ]
  },
  {
   "cell_type": "code",
   "execution_count": 18,
   "metadata": {},
   "outputs": [
    {
     "name": "stdout",
     "output_type": "stream",
     "text": [
      "Your assignment is to read \"Hamlet\" by tomorrow.\n",
      "I'm ready to begin.\n"
     ]
    }
   ],
   "source": [
    "print(\"Your assignment is to read \\\"Hamlet\\\" by tomorrow.\")\n",
    "print('I\\'m ready to begin.')"
   ]
  },
  {
   "cell_type": "code",
   "execution_count": 19,
   "metadata": {},
   "outputs": [
    {
     "name": "stdout",
     "output_type": "stream",
     "text": [
      "The monthly payment is  416.6666666666667\n"
     ]
    }
   ],
   "source": [
    "amount_due = 5000.0;\n",
    "monthly_payment = amount_due/12.0;\n",
    "print('The monthly payment is ', monthly_payment)"
   ]
  },
  {
   "cell_type": "code",
   "execution_count": 20,
   "metadata": {},
   "outputs": [
    {
     "name": "stdout",
     "output_type": "stream",
     "text": [
      "12345.68\n"
     ]
    }
   ],
   "source": [
    "print(format(12345.6789, '.2f'))"
   ]
  },
  {
   "cell_type": "code",
   "execution_count": 21,
   "metadata": {},
   "outputs": [
    {
     "name": "stdout",
     "output_type": "stream",
     "text": [
      "1.234568e+04\n"
     ]
    }
   ],
   "source": [
    "print(format(12345.678,'e'))"
   ]
  },
  {
   "cell_type": "code",
   "execution_count": 22,
   "metadata": {},
   "outputs": [
    {
     "name": "stdout",
     "output_type": "stream",
     "text": [
      "1.23e+04\n"
     ]
    }
   ],
   "source": [
    "print(format(12345.678,'.2e'))"
   ]
  },
  {
   "cell_type": "code",
   "execution_count": 23,
   "metadata": {},
   "outputs": [
    {
     "name": "stdout",
     "output_type": "stream",
     "text": [
      "20 40 30\n"
     ]
    }
   ],
   "source": [
    "a = 20; b = 40; c = 30; \n",
    "(x,y,z) = (a,b,c)\n",
    "print(x,y,z)"
   ]
  },
  {
   "cell_type": "markdown",
   "metadata": {},
   "source": [
    "#  Personal Information"
   ]
  },
  {
   "cell_type": "code",
   "execution_count": 24,
   "metadata": {},
   "outputs": [
    {
     "name": "stdout",
     "output_type": "stream",
     "text": [
      "Ramiro Gonzalez\n",
      "000 00st W, Merced, california, 00000\n",
      "209-962-2524\n",
      "Computer Science and Engineering\n"
     ]
    }
   ],
   "source": [
    "print('Ramiro Gonzalez')\n",
    "print('000 00st W, Merced, california, 00000')\n",
    "print('209-962-2524')\n",
    "print('Computer Science and Engineering')"
   ]
  },
  {
   "cell_type": "markdown",
   "metadata": {},
   "source": [
    "#  Sales Prediction"
   ]
  },
  {
   "cell_type": "code",
   "execution_count": 25,
   "metadata": {
    "scrolled": true
   },
   "outputs": [
    {
     "name": "stdout",
     "output_type": "stream",
     "text": [
      "Enter the projected amount of total sales: \n"
     ]
    },
    {
     "ename": "ValueError",
     "evalue": "could not convert string to float: ",
     "output_type": "error",
     "traceback": [
      "\u001b[1;31m---------------------------------------------------------------------------\u001b[0m",
      "\u001b[1;31mValueError\u001b[0m                                Traceback (most recent call last)",
      "\u001b[1;32m<ipython-input-25-feafcd05e091>\u001b[0m in \u001b[0;36m<module>\u001b[1;34m()\u001b[0m\n\u001b[1;32m----> 1\u001b[1;33m \u001b[0mtotal_sales\u001b[0m \u001b[1;33m=\u001b[0m \u001b[0mfloat\u001b[0m\u001b[1;33m(\u001b[0m\u001b[0minput\u001b[0m\u001b[1;33m(\u001b[0m\u001b[1;34m\"Enter the projected amount of total sales: \"\u001b[0m\u001b[1;33m)\u001b[0m\u001b[1;33m)\u001b[0m\u001b[1;33m\u001b[0m\u001b[0m\n\u001b[0m\u001b[0;32m      2\u001b[0m \u001b[0mannual_profit\u001b[0m \u001b[1;33m=\u001b[0m \u001b[1;36m.23\u001b[0m\u001b[1;33m*\u001b[0m\u001b[0mtotal_sales\u001b[0m\u001b[1;33m\u001b[0m\u001b[0m\n\u001b[0;32m      3\u001b[0m \u001b[0mprint\u001b[0m\u001b[1;33m(\u001b[0m\u001b[1;34m'Annual profit is '\u001b[0m\u001b[1;33m,\u001b[0m \u001b[0mannual_profit\u001b[0m\u001b[1;33m)\u001b[0m\u001b[1;33m\u001b[0m\u001b[0m\n",
      "\u001b[1;31mValueError\u001b[0m: could not convert string to float: "
     ]
    }
   ],
   "source": [
    "total_sales = float(input(\"Enter the projected amount of total sales: \"))\n",
    "annual_profit = .23*total_sales\n",
    "print('Annual profit is ', annual_profit)"
   ]
  },
  {
   "cell_type": "markdown",
   "metadata": {},
   "source": [
    "#  Land Calculation"
   ]
  },
  {
   "cell_type": "code",
   "execution_count": null,
   "metadata": {},
   "outputs": [],
   "source": [
    "total_sqft = float(input('Enter the total squre feet in a tract of land: '))\n",
    "number_acres = total_sqft/43560;\n",
    "print('Number of acres is: ', number_acres)"
   ]
  },
  {
   "cell_type": "markdown",
   "metadata": {},
   "source": [
    "#  Total Purchase"
   ]
  },
  {
   "cell_type": "code",
   "execution_count": null,
   "metadata": {},
   "outputs": [],
   "source": [
    "sales_tax = .07; \n",
    "item1 = float(input('Price of item 1: '))\n",
    "item2 = float(input('Price of item 2: '))\n",
    "item3 = float(input('Price of item 3: '))\n",
    "item4 = float(input('Price of item 4: '))\n",
    "item5 = float(input('Price of item 5: '))\n",
    "subtotal = item1 + item2 + item3 + item4 + item5\n",
    "sales_tax_amount = subtotal*sales_tax\n",
    "total = subtotal + sales_tax_amount\n",
    "print('Total is : ',total)"
   ]
  },
  {
   "cell_type": "markdown",
   "metadata": {},
   "source": [
    "#  Distance Traveled "
   ]
  },
  {
   "cell_type": "code",
   "execution_count": null,
   "metadata": {},
   "outputs": [],
   "source": [
    "speed = 70; #mph\n",
    "time = 6\n",
    "distance = speed*time\n",
    "print('Distance for 6 hours',distance)\n",
    "time = 10\n",
    "distance = speed*time\n",
    "print('Distance for 10 hours',distance)\n",
    "time = 15\n",
    "distance = speed*time\n",
    "print('Distance for 15 hours',distance)"
   ]
  },
  {
   "cell_type": "markdown",
   "metadata": {},
   "source": [
    "# Sales Tax"
   ]
  },
  {
   "cell_type": "code",
   "execution_count": null,
   "metadata": {},
   "outputs": [],
   "source": [
    "purchase_amount = float(input('Purchase price: '))\n",
    "state_tax = .05\n",
    "county_tax = .025;\n",
    "total_tax = state_tax + county_tax;\n",
    "total_tax_price = total_tax*purchase_amount;\n",
    "total = purchase_amount + total_tax_price; \n",
    "print('Amount of purchase ', state_tax, ' county tax ' \\\n",
    "      , county_tax, 'total_tax ',format(total_tax,'.3f'), \\\n",
    "     ' total sale price ', total)"
   ]
  },
  {
   "cell_type": "markdown",
   "metadata": {},
   "source": [
    "#  Miles-Per-Gallon"
   ]
  },
  {
   "cell_type": "code",
   "execution_count": null,
   "metadata": {
    "scrolled": true
   },
   "outputs": [],
   "source": [
    "miles_driven = float(input('Miles driven: '))\n",
    "gallons_used = float(input('gallons of gas used: '))\n",
    "mpg = miles_driven/gallons_used;\n",
    "print('MPG: ', mpg)"
   ]
  },
  {
   "cell_type": "markdown",
   "metadata": {},
   "source": [
    "#  Tip, Tax, and Total "
   ]
  },
  {
   "cell_type": "code",
   "execution_count": null,
   "metadata": {},
   "outputs": [],
   "source": [
    "food_price = float(input('The price of the food: '))\n",
    "food_price_tip = .18*food_price;\n",
    "food_price_tax = .07*food_price;\n",
    "total = food_price + food_price_tip + food_price_tax; \n",
    "print('Food price is ', food_price \\\n",
    "     ,' tip is ', food_price_tip, ' sales tax price ', format(food_price_tax,'.2') \\\n",
    "     ,' and total is ', total)"
   ]
  },
  {
   "cell_type": "markdown",
   "metadata": {},
   "source": [
    "# Celsius to Fahrenheit Temperature Converter"
   ]
  },
  {
   "cell_type": "code",
   "execution_count": null,
   "metadata": {},
   "outputs": [],
   "source": [
    "celsius_input = float(input('Enter temperature in Celsius'))\n",
    "fahrenheit = 9.0/5 + 32; \n",
    "print('Temperature in ', celsius_input , ' Celsius is ', fahrenheit, ' Fahrenheit' )"
   ]
  },
  {
   "cell_type": "markdown",
   "metadata": {},
   "source": [
    "# Ingredient Adjuster "
   ]
  },
  {
   "cell_type": "code",
   "execution_count": null,
   "metadata": {},
   "outputs": [],
   "source": [
    "number_cookies = int(input('Enter number of cookies: '))\n",
    "num_of_cups = number_cookies/48; \n",
    "print('You need ', format(num_of_cups*1.5,'.2f'), 'cups of sugar')\n",
    "print('You need ', format(num_of_cups*1,'.2f'), 'cups of sugar')\n",
    "print('You need ', format(num_of_cups*2.75,'.2f'), 'cups of flour')"
   ]
  },
  {
   "cell_type": "markdown",
   "metadata": {},
   "source": [
    "# Male and Female Percentages"
   ]
  },
  {
   "cell_type": "code",
   "execution_count": null,
   "metadata": {},
   "outputs": [],
   "source": [
    "number_females = int(input('Enter number of females enrolled in course: '))\n",
    "number_males = int(input('Enter number of males enrolled in course: '))\n",
    "total_students = number_females + number_males; \n",
    "percent_female = number_females/total_students; \n",
    "percent_male = number_males/total_students; \n",
    "print('Percentage of females enrolled is  ',format(percent_female,'.0%') \\\n",
    "      , 'and ', format(percent_male,'.0%') ,'males')\n",
    "\n"
   ]
  },
  {
   "cell_type": "markdown",
   "metadata": {},
   "source": [
    "# Stock Transaction Program"
   ]
  },
  {
   "cell_type": "code",
   "execution_count": null,
   "metadata": {},
   "outputs": [],
   "source": [
    "shares = 2000;\n",
    "buy_price = 40;\n",
    "sell_price = 42.75;\n",
    "amount_paid = shares*buy_price\n",
    "commission_fee_buy = .03*amount_paid\n",
    "total_buy = amount_paid + commission_fee_buy;\n",
    "amount_sold_price = shares*sell_price\n",
    "commission_fee_sell = .03*amount_sold_price; \n",
    "total_sell = amount_sold_price - commission_fee_sell;\n",
    "print('The amount money paid for the stock',amount_paid)\n",
    "print('Commision paid for buying stock ', commission_fee_buy)\n",
    "print('Amount made from selling stock', amount_sold_price)\n",
    "print('Commission paid for selling stock',commission_fee_sell)\n",
    "profit = total_sell - total_buy; \n",
    "print('The profit is ', profit)"
   ]
  }
 ],
 "metadata": {
  "kernelspec": {
   "display_name": "Python 3",
   "language": "python",
   "name": "python3"
  },
  "language_info": {
   "codemirror_mode": {
    "name": "ipython",
    "version": 3
   },
   "file_extension": ".py",
   "mimetype": "text/x-python",
   "name": "python",
   "nbconvert_exporter": "python",
   "pygments_lexer": "ipython3",
   "version": "3.6.5"
  }
 },
 "nbformat": 4,
 "nbformat_minor": 2
}
