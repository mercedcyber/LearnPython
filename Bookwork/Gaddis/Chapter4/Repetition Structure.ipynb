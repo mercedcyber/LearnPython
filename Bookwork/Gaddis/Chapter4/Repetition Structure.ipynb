{
 "cells": [
  {
   "cell_type": "markdown",
   "metadata": {},
   "source": [
    "Ramiro Gonzalez "
   ]
  },
  {
   "cell_type": "markdown",
   "metadata": {},
   "source": [
    "Chapter 4"
   ]
  },
  {
   "cell_type": "markdown",
   "metadata": {},
   "source": [
    "Gaddis, T. (2019). Starting out with Python. New York, NY: Pearson"
   ]
  },
  {
   "cell_type": "markdown",
   "metadata": {},
   "source": [
    "<b> Algorithm Workbench"
   ]
  },
  {
   "cell_type": "markdown",
   "metadata": {},
   "source": [
    "# Bug Collector "
   ]
  },
  {
   "cell_type": "code",
   "execution_count": 1,
   "metadata": {},
   "outputs": [
    {
     "name": "stdout",
     "output_type": "stream",
     "text": [
      "How many bugs were colleceted day Monday: 1\n",
      "How many bugs were colleceted day Tuesday: 1\n",
      "How many bugs were colleceted day Wednesday: 1\n",
      "How many bugs were colleceted day Thursday: 1\n",
      "How many bugs were colleceted day Friday: 1\n",
      "5 bugs were collected\n"
     ]
    }
   ],
   "source": [
    "total = 0; \n",
    "for days in range(5):\n",
    "    week = [\"Monday\",\"Tuesday\",\"Wednesday\",\"Thursday\",\"Friday\"]\n",
    "    bugs = int(input(\"How many bugs were colleceted day {}: \".format(week[days]))) # or days + 1\n",
    "    total = total + bugs\n",
    "print(\"{} bugs were collected\".format(total))"
   ]
  },
  {
   "cell_type": "markdown",
   "metadata": {},
   "source": [
    "# Calories Burned "
   ]
  },
  {
   "cell_type": "code",
   "execution_count": 2,
   "metadata": {},
   "outputs": [
    {
     "name": "stdout",
     "output_type": "stream",
     "text": [
      "In 10 you burned 42.0 calories\n",
      "In 15 you burned 63.0 calories\n",
      "In 20 you burned 84.0 calories\n",
      "In 25 you burned 105.0 calories\n"
     ]
    }
   ],
   "source": [
    "caloriesPerMin = 4.2\n",
    "for minutes in range(10,30,5):\n",
    "    calories = caloriesPerMin*minutes\n",
    "    print(\"In {} you burned {} calories\".format(minutes,calories))"
   ]
  },
  {
   "cell_type": "markdown",
   "metadata": {},
   "source": [
    "# Budget Analysis"
   ]
  },
  {
   "cell_type": "code",
   "execution_count": 3,
   "metadata": {},
   "outputs": [
    {
     "name": "stdout",
     "output_type": "stream",
     "text": [
      "Enter budget amount for a month: 1\n",
      "Enter expense: 1\n",
      "More expenses? Enter y or n:1\n",
      " $1 is the total amount spent. \n"
     ]
    }
   ],
   "source": [
    "budget = int(input(\"Enter budget amount for a month: \"))\n",
    "total = 0 \n",
    "yesno = \"y\"\n",
    "while yesno == \"y\":\n",
    "    expense = int(input(\"Enter expense: \"))\n",
    "    total = total + expense; \n",
    "    yesno = input(\"More expenses? Enter y or n:\")\n",
    "print(\" ${} is the total amount spent. \".format(total))\n",
    "if(total < budget):\n",
    "    underAmount = budget - total;\n",
    "    print(\"Underbudget by {}\".format(underAmount))"
   ]
  },
  {
   "cell_type": "markdown",
   "metadata": {},
   "source": [
    "# Distance Traveled "
   ]
  },
  {
   "cell_type": "code",
   "execution_count": 4,
   "metadata": {},
   "outputs": [
    {
     "name": "stdout",
     "output_type": "stream",
     "text": [
      "Enter the miles per hour travelled: 1\n",
      "Enter number of hours travelled: 1\n"
     ]
    }
   ],
   "source": [
    "mph = int(input(\"Enter the miles per hour travelled: \"))\n",
    "hours = int(input(\"Enter number of hours travelled: \"))\n",
    "for travel in range(1,hours):\n",
    "    distance = mph*travel; \n",
    "    print(\"In the {} hour the vehicle travelled {} miles\".format(hours, distance))\n",
    "    "
   ]
  },
  {
   "cell_type": "markdown",
   "metadata": {},
   "source": [
    "# Average Rainfall"
   ]
  },
  {
   "cell_type": "code",
   "execution_count": 5,
   "metadata": {},
   "outputs": [
    {
     "name": "stdout",
     "output_type": "stream",
     "text": [
      "Enter the number of years: 1\n",
      "For year 1\n",
      "Enter amount of rainfall month number 1 :1\n",
      "Enter amount of rainfall month number 2 :1\n",
      "Enter amount of rainfall month number 3 :1\n",
      "Enter amount of rainfall month number 4 :1\n",
      "Enter amount of rainfall month number 5 :1\n",
      "Enter amount of rainfall month number 6 :1\n",
      "Enter amount of rainfall month number 7 :1\n",
      "Enter amount of rainfall month number 8 :1\n",
      "Enter amount of rainfall month number 9 :1\n",
      "Enter amount of rainfall month number 10 :1\n",
      "Enter amount of rainfall month number 11 :1\n",
      "Enter amount of rainfall month number 12 :1\n",
      "There are 12 months in 1 years\n",
      "Total rainfal was 12 inches\n",
      "Average rainfall per month is 1.0\n"
     ]
    }
   ],
   "source": [
    "yearsNum = int(input(\"Enter the number of years: \"))\n",
    "monthsInYear = 12\n",
    "totalRainfall = 0\n",
    "averageRainfalPerMonth = 0\n",
    "for years in range(yearsNum):\n",
    "    print(\"For year {}\".format(years + 1))\n",
    "    for month in range(monthsInYear):\n",
    "        rainfallMonth = int(input(\"Enter amount of rainfall month number {} :\".format(month + 1)))\n",
    "        totalRainfall = totalRainfall + rainfallMonth; \n",
    "yearsToMonth = yearsNum*monthsInYear\n",
    "averageRainfall = totalRainfall/yearsToMonth\n",
    "print(\"There are {} months in {} years\".format(yearsToMonth,yearsNum))\n",
    "print(\"Total rainfal was {} inches\".format(totalRainfall))\n",
    "print(\"Average rainfall per month is {}\".format(averageRainfall))"
   ]
  },
  {
   "cell_type": "markdown",
   "metadata": {},
   "source": [
    "# Celsius to Fahrenheit Table "
   ]
  },
  {
   "cell_type": "code",
   "execution_count": 6,
   "metadata": {},
   "outputs": [
    {
     "name": "stdout",
     "output_type": "stream",
     "text": [
      "Celsius \t Fahrenheit\n",
      "0 \t\t  32.0 \n",
      "1 \t\t  33.8 \n",
      "2 \t\t  35.6 \n",
      "3 \t\t  37.4 \n",
      "4 \t\t  39.2 \n",
      "5 \t\t  41.0 \n",
      "6 \t\t  42.8 \n",
      "7 \t\t  44.6 \n",
      "8 \t\t  46.4 \n",
      "9 \t\t  48.2 \n",
      "10 \t\t  50.0 \n",
      "11 \t\t  51.8 \n",
      "12 \t\t  53.6 \n",
      "13 \t\t  55.400000000000006 \n",
      "14 \t\t  57.2 \n",
      "15 \t\t  59.0 \n",
      "16 \t\t  60.8 \n",
      "17 \t\t  62.6 \n",
      "18 \t\t  64.4 \n",
      "19 \t\t  66.2 \n"
     ]
    }
   ],
   "source": [
    "print(\"Celsius \\t Fahrenheit\")\n",
    "for celsius in range(0,20,1):\n",
    "    fahrenheit = (9/5.0)*celsius + 32; \n",
    "    print(\"{} \\t\\t  {} \".format(celsius,fahrenheit))"
   ]
  },
  {
   "cell_type": "markdown",
   "metadata": {},
   "source": [
    "# Pennies for Pay"
   ]
  },
  {
   "cell_type": "code",
   "execution_count": 17,
   "metadata": {},
   "outputs": [
    {
     "name": "stdout",
     "output_type": "stream",
     "text": [
      "Enter number of days worked: 10\n",
      "On day 1 salary is 0.01 dollars\n",
      "On day 2 salary is 0.02 dollars\n",
      "On day 3 salary is 0.04 dollars\n",
      "On day 4 salary is 0.08 dollars\n",
      "On day 5 salary is 0.16 dollars\n",
      "On day 6 salary is 0.32 dollars\n",
      "On day 7 salary is 0.64 dollars\n",
      "On day 8 salary is 1.28 dollars\n",
      "On day 9 salary is 2.56 dollars\n",
      "On day 10 salary is 5.12 dollars\n",
      "Total pay was 10.23 dollars\n"
     ]
    }
   ],
   "source": [
    "numberOfDays = int(input(\"Enter number of days worked: \"))\n",
    "salary = 0.0\n",
    "pennies = 1;\n",
    "totalSalary = 0; \n",
    "for day in range(numberOfDays):\n",
    "    salary = pennies\n",
    "    pennies *= 2\n",
    "    totalSalary = totalSalary + salary\n",
    "    salaryDollars = salary/100\n",
    "    print(\"On day {} salary is {} dollars\".format(day + 1, salaryDollars))\n",
    "totalSalaryDollars = totalSalary/100\n",
    "print(\"Total pay was {} dollars\".format(totalSalaryDollars))"
   ]
  },
  {
   "cell_type": "markdown",
   "metadata": {},
   "source": [
    "# Sum of Numbers "
   ]
  },
  {
   "cell_type": "code",
   "execution_count": 11,
   "metadata": {},
   "outputs": [
    {
     "name": "stdout",
     "output_type": "stream",
     "text": [
      "Enter a positive number or negative number to end : .5\n",
      "Enter a positive number or negative number to end : .5\n",
      "Enter a positive number or negative number to end : -1\n",
      "The total sum is 1.0\n"
     ]
    }
   ],
   "source": [
    "sum = 0; \n",
    "userNumber = float(input(\"Enter a positive number or negative number to end : \"))\n",
    "while(userNumber >= 0):\n",
    "    sum = sum + userNumber\n",
    "    userNumber = float(input(\"Enter a positive number or negative number to end : \")) \n",
    "print(\"The total sum is {}\".format(sum))"
   ]
  },
  {
   "cell_type": "markdown",
   "metadata": {},
   "source": [
    "# Ocean Levels "
   ]
  },
  {
   "cell_type": "code",
   "execution_count": 24,
   "metadata": {
    "scrolled": true
   },
   "outputs": [
    {
     "name": "stdout",
     "output_type": "stream",
     "text": [
      "In year 1 ocean will have risen 1.6 millimeters\n",
      "In year 2 ocean will have risen 3.2 millimeters\n",
      "In year 3 ocean will have risen 4.800000000000001 millimeters\n",
      "In year 4 ocean will have risen 6.4 millimeters\n",
      "In year 5 ocean will have risen 8.0 millimeters\n",
      "In year 6 ocean will have risen 9.600000000000001 millimeters\n",
      "In year 7 ocean will have risen 11.200000000000001 millimeters\n",
      "In year 8 ocean will have risen 12.8 millimeters\n",
      "In year 9 ocean will have risen 14.4 millimeters\n",
      "In year 10 ocean will have risen 16.0 millimeters\n",
      "In year 11 ocean will have risen 17.6 millimeters\n",
      "In year 12 ocean will have risen 19.200000000000003 millimeters\n",
      "In year 13 ocean will have risen 20.8 millimeters\n",
      "In year 14 ocean will have risen 22.400000000000002 millimeters\n",
      "In year 15 ocean will have risen 24.0 millimeters\n",
      "In year 16 ocean will have risen 25.6 millimeters\n",
      "In year 17 ocean will have risen 27.200000000000003 millimeters\n",
      "In year 18 ocean will have risen 28.8 millimeters\n",
      "In year 19 ocean will have risen 30.400000000000002 millimeters\n",
      "In year 20 ocean will have risen 32.0 millimeters\n",
      "In year 21 ocean will have risen 33.6 millimeters\n",
      "In year 22 ocean will have risen 35.2 millimeters\n",
      "In year 23 ocean will have risen 36.800000000000004 millimeters\n",
      "In year 24 ocean will have risen 38.400000000000006 millimeters\n",
      "In year 25 ocean will have risen 40.0 millimeters\n"
     ]
    }
   ],
   "source": [
    "oceanRise = 1.6 #millimeters per year \n",
    "yearAmount = 25 #years\n",
    "for year in range(yearAmount):\n",
    "    oceanRisen = oceanRise*(year+1)\n",
    "    print(\"In year {} ocean will have risen {} millimeters\".format(year + 1,oceanRisen))\n"
   ]
  },
  {
   "cell_type": "markdown",
   "metadata": {},
   "source": [
    "# Tuition Increase"
   ]
  },
  {
   "cell_type": "code",
   "execution_count": 28,
   "metadata": {},
   "outputs": [
    {
     "name": "stdout",
     "output_type": "stream",
     "text": [
      "In year 1 projected tuition will be 16480.0\n",
      "In year 2 projected tuition will be 32960.0\n",
      "In year 3 projected tuition will be 49440.0\n",
      "In year 4 projected tuition will be 65920.0\n",
      "In year 5 projected tuition will be 82400.0\n"
     ]
    }
   ],
   "source": [
    "percentIncrease = 3 # percent \n",
    "yearAmount = 5 # years\n",
    "tuition = 8000 # Per semester \n",
    "tuitionYear = tuition*2 # Per year \n",
    "projectedTution = 0\n",
    "for year in range(yearAmount):\n",
    "    tuitionRate = (tuitionYear)*.03 \n",
    "    projectedTution = projectedTution + (tuitionRate + tuitionYear) \n",
    "    print(\"In year {} projected tuition will be {}\".format(year + 1, projectedTution))\n",
    "    "
   ]
  },
  {
   "cell_type": "markdown",
   "metadata": {},
   "source": [
    "# Calculating the Factorial of a Number "
   ]
  },
  {
   "cell_type": "code",
   "execution_count": 35,
   "metadata": {},
   "outputs": [
    {
     "name": "stdout",
     "output_type": "stream",
     "text": [
      "Enter nonnegative integer n: 3\n",
      "3! is 6\n"
     ]
    }
   ],
   "source": [
    "number = int(input(\"Enter nonnegative integer n: \"))\n",
    "factorial = 1\n",
    "for num in range(number):\n",
    "    factorial = (num+1)*factorial\n",
    "print(\"{}! is {}\".format(number,factorial))"
   ]
  },
  {
   "cell_type": "markdown",
   "metadata": {},
   "source": [
    "# Population"
   ]
  },
  {
   "cell_type": "code",
   "execution_count": 5,
   "metadata": {},
   "outputs": [
    {
     "name": "stdout",
     "output_type": "stream",
     "text": [
      "Enter number of starting number of organisms: 2\n",
      "Enter the average daily population increase in percentage: 30\n",
      "Enter number of days the organism will be left to multiply: 10\n",
      "Day Approximate \t Population\n",
      "1\t\t2\n",
      "2\t\t2.6\n",
      "3\t\t3.38\n",
      "4\t\t4.394\n",
      "5\t\t5.7122\n",
      "6\t\t7.42586\n",
      "7\t\t9.653618\n",
      "8\t\t12.5497034\n",
      "9\t\t16.31461442\n",
      "10\t\t21.208998746000002\n"
     ]
    }
   ],
   "source": [
    "organismCount = int(input(\"Enter number of starting number of organisms: \"))\n",
    "averageIncrease = float(input(\"Enter the average daily population increase in percentage: \"))\n",
    "dayNumMult = int(input(\"Enter number of days the organism will be left to multiply: \")) \n",
    "print(\"Day Approximate \\t Population\")\n",
    "increasePopulation = 0\n",
    "for days in range(dayNumMult):\n",
    "    organismCount = organismCount + increasePopulation\n",
    "    increasePopulation = organismCount*(averageIncrease/100)\n",
    "    print(\"{}\\t\\t{}\".format(days + 1, organismCount))"
   ]
  },
  {
   "cell_type": "markdown",
   "metadata": {},
   "source": [
    "# Write a program that uses nested loops to draw this pattern:"
   ]
  },
  {
   "cell_type": "code",
   "execution_count": 16,
   "metadata": {
    "scrolled": true
   },
   "outputs": [
    {
     "name": "stdout",
     "output_type": "stream",
     "text": [
      "*******\n",
      "******\n",
      "*****\n",
      "****\n",
      "***\n",
      "**\n",
      "*\n"
     ]
    }
   ],
   "source": [
    "num_row = 7\n",
    "num_col = 7\n",
    "for r in range(num_row):\n",
    "    for c in range(r):\n",
    "        print('',end='')\n",
    "    print(\"*\"*num_col)\n",
    "    num_col = num_col - 1"
   ]
  },
  {
   "cell_type": "markdown",
   "metadata": {},
   "source": [
    "# Write a program that uses nested loops to draw this pattern: "
   ]
  },
  {
   "cell_type": "code",
   "execution_count": 25,
   "metadata": {},
   "outputs": [
    {
     "name": "stdout",
     "output_type": "stream",
     "text": [
      "##\n",
      "# #\n",
      "#  #\n",
      "#   #\n",
      "#    #\n",
      "#     #\n"
     ]
    }
   ],
   "source": [
    "num_row = 6 \n",
    "num_col = 0\n",
    "for r in range(num_row):\n",
    "    for c in range(r):\n",
    "        print('',end='')\n",
    "    print(\"#{}#\".format(\" \"*num_col))\n",
    "    num_col +=1"
   ]
  }
 ],
 "metadata": {
  "kernelspec": {
   "display_name": "Python 3",
   "language": "python",
   "name": "python3"
  },
  "language_info": {
   "codemirror_mode": {
    "name": "ipython",
    "version": 3
   },
   "file_extension": ".py",
   "mimetype": "text/x-python",
   "name": "python",
   "nbconvert_exporter": "python",
   "pygments_lexer": "ipython3",
   "version": "3.6.5"
  }
 },
 "nbformat": 4,
 "nbformat_minor": 2
}
