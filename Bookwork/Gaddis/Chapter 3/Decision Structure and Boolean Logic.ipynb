{
 "cells": [
  {
   "cell_type": "markdown",
   "metadata": {},
   "source": [
    "Ramiro Gonzalez "
   ]
  },
  {
   "cell_type": "markdown",
   "metadata": {},
   "source": [
    "Chapter 3"
   ]
  },
  {
   "cell_type": "markdown",
   "metadata": {},
   "source": [
    "Gaddis, T. (2019). Starting out with Python. New York, NY: Pearson"
   ]
  },
  {
   "cell_type": "markdown",
   "metadata": {},
   "source": [
    "# Day of the week"
   ]
  },
  {
   "cell_type": "code",
   "execution_count": 1,
   "metadata": {},
   "outputs": [
    {
     "name": "stdout",
     "output_type": "stream",
     "text": [
      "Enter a number between 1 and 7: 4\n",
      "Thrusday\n"
     ]
    }
   ],
   "source": [
    "number = int(input(\"Enter a number between 1 and 7: \"))\n",
    "if(number == 1):\n",
    "    print('Monday')\n",
    "elif(number == 2):\n",
    "    print('Tuesday')\n",
    "elif(number == 3):\n",
    "    print('Wednesday')\n",
    "elif(number == 4):\n",
    "    print('Thrusday')\n",
    "elif(number == 5):\n",
    "    print('Friday')\n",
    "elif(number == 6):\n",
    "    print('Saturday')\n",
    "elif(number == 7):\n",
    "    print('Sunday')\n",
    "else:\n",
    "    print(\"Out of range\")\n",
    "        "
   ]
  },
  {
   "cell_type": "markdown",
   "metadata": {},
   "source": [
    "# Areas of Rectangles"
   ]
  },
  {
   "cell_type": "code",
   "execution_count": 2,
   "metadata": {},
   "outputs": [
    {
     "name": "stdout",
     "output_type": "stream",
     "text": [
      "Enter length of first rectangle. 4\n",
      "Enter width of first rectangle. 4\n",
      "Enter length of second rectangle. 4\n",
      "Enter width of second rectangle. 4\n",
      "Area of the second rectangle is the same as first rectangle. \n"
     ]
    }
   ],
   "source": [
    "lenRect1 = float(input('Enter length of first rectangle. '))\n",
    "widthRect1 = float(input('Enter width of first rectangle. '))\n",
    "lenRect2 = float(input('Enter length of second rectangle. '))\n",
    "widthRect2 = float(input('Enter width of second rectangle. '))\n",
    "rect1Area = lenRect1*widthRect1\n",
    "rect2Area = lenRect2*widthRect2\n",
    "if(rect1Area > rect2Area):\n",
    "    print(\"Area of the first rectangle is greater than second rectangle.\")\n",
    "elif(rect1Area < rect2Area):\n",
    "    print(\"Area of the second rectangle is greater than first rectangle. \")\n",
    "else:\n",
    "    print(\"Area of the second rectangle is the same as first rectangle. \")"
   ]
  },
  {
   "cell_type": "markdown",
   "metadata": {},
   "source": [
    "# Age Classifier "
   ]
  },
  {
   "cell_type": "code",
   "execution_count": 3,
   "metadata": {},
   "outputs": [
    {
     "name": "stdout",
     "output_type": "stream",
     "text": [
      "Enter the person's age34\n",
      "The person is an adult.\n"
     ]
    }
   ],
   "source": [
    "age = int(input(\"Enter the person's age\"))\n",
    "if(age < 1):\n",
    "    print(\"The person is an infant.\")\n",
    "if(age >= 1 and age < 13):\n",
    "    print(\"The person is a child.\")\n",
    "if(age >= 13 and age < 20):\n",
    "    print(\"The person is a teenager.\")\n",
    "if(age >= 20):\n",
    "    print(\"The person is an adult.\")\n"
   ]
  },
  {
   "cell_type": "markdown",
   "metadata": {},
   "source": [
    "# Roman Numerals"
   ]
  },
  {
   "cell_type": "code",
   "execution_count": 4,
   "metadata": {},
   "outputs": [
    {
     "name": "stdout",
     "output_type": "stream",
     "text": [
      "Enter a number between 1 and 10 (inclusive): 3\n",
      "III\n"
     ]
    }
   ],
   "source": [
    "number = int(input('Enter a number between 1 and 10 (inclusive): '))\n",
    "if(number == 1):\n",
    "    print(\"I\")\n",
    "elif(number == 2):\n",
    "    print(\"II\")\n",
    "elif(number == 3):\n",
    "    print(\"III\")\n",
    "elif(number == 4):\n",
    "    print(\"IV\")\n",
    "elif(number == 5):\n",
    "    print(\"V\")\n",
    "elif(number == 6):\n",
    "    print(\"VI\")\n",
    "elif(number == 7):\n",
    "    print(\"VII\")\n",
    "elif(number == 8):\n",
    "    print(\"VIII\")\n",
    "elif(number == 9):\n",
    "    print(\"IX\")\n",
    "elif(number == 10):\n",
    "    print(\"X\")\n",
    "else:\n",
    "    print(\"Out of range: \")\n",
    "        "
   ]
  },
  {
   "cell_type": "markdown",
   "metadata": {},
   "source": [
    "# Mass and Weight"
   ]
  },
  {
   "cell_type": "code",
   "execution_count": 5,
   "metadata": {},
   "outputs": [
    {
     "name": "stdout",
     "output_type": "stream",
     "text": [
      "Enter the object's mass: 4\n",
      "The object is too light. \n"
     ]
    }
   ],
   "source": [
    "mass = float(input(\"Enter the object's mass: \"))\n",
    "weight = mass*9.8;\n",
    "if(weight >= 500):\n",
    "    print(\"The object is too heavy.\")\n",
    "if(weight <= 100):\n",
    "    print(\"The object is too light. \")\n"
   ]
  },
  {
   "cell_type": "markdown",
   "metadata": {},
   "source": [
    "# Magic Dates"
   ]
  },
  {
   "cell_type": "code",
   "execution_count": 6,
   "metadata": {},
   "outputs": [
    {
     "name": "stdout",
     "output_type": "stream",
     "text": [
      "Enter a month (numeric): 4\n",
      "Enter a day4\n",
      "Enter a two digit year4\n",
      "The date is not magic \n"
     ]
    }
   ],
   "source": [
    "month = int(input(\"Enter a month (numeric): \"))\n",
    "day = int(input(\"Enter a day\"));\n",
    "year2 = int(input(\"Enter a two digit year\"))\n",
    "if(month*day == year2):\n",
    "    print(\"The date is magic \")\n",
    "else:\n",
    "    print(\"The date is not magic \")"
   ]
  },
  {
   "cell_type": "markdown",
   "metadata": {},
   "source": [
    "# Color Mixer"
   ]
  },
  {
   "cell_type": "code",
   "execution_count": 16,
   "metadata": {},
   "outputs": [
    {
     "name": "stdout",
     "output_type": "stream",
     "text": [
      "Enter name of first primary color: 34\n",
      "Enter name of second primary color: 43\n",
      "Error, secondary color not found\n"
     ]
    }
   ],
   "source": [
    "colorPrimary1 = input(\"Enter name of first primary color: \")\n",
    "colorPrimary2 = input(\"Enter name of second primary color: \")\n",
    "if(colorPrimary1 == 'red' and colorPrimary2 == 'blue' or \n",
    "   colorPrimary1 == 'blue' and colorPrimary2 == 'red'):\n",
    "    print(\"When you mix \" + colorPrimary1 + \" and \" + \n",
    "          colorPrimary2 + \", you get purple\")\n",
    "elif(colorPrimary1 == 'red' and colorPrimary2 == 'yellow' or\n",
    "     colorPrimary1 == 'yellow' and colorPrimary2 == 'red'):\n",
    "    print(\"When you mix \" + colorPrimary1 + \" and \" + colorPrimary2 + \n",
    "          \", you get orange\")\n",
    "elif(colorPrimary1 == 'blue' and colorPrimary2 == 'yellow' or \n",
    "     colorPrimary1 == 'yellow' and colorPrimary2 == 'blue'):\n",
    "    print(\"When you mix \" + colorPrimary1 + \" and \" + colorPrimary2 + \n",
    "          \", you get green\")\n",
    "else:\n",
    "    print(\"Error, secondary color not found\")\n",
    "    "
   ]
  },
  {
   "cell_type": "markdown",
   "metadata": {},
   "source": [
    "# Hotdog Cookout Calculator "
   ]
  },
  {
   "cell_type": "code",
   "execution_count": 8,
   "metadata": {},
   "outputs": [
    {
     "name": "stdout",
     "output_type": "stream",
     "text": [
      "Enter number of people attending: 34\n",
      "Minimum number of packages of hot dogs: 3\n",
      "Minimum number of packages of hot dog buns: 4\n",
      "Number of hot dogs left: 4\n",
      "Number of hot dog buns left: 2\n"
     ]
    }
   ],
   "source": [
    "people = int(input(\"Enter number of people attending: \"))\n",
    "hotDogs = 10; \n",
    "hotDogBuns = 8; \n",
    "minHotDogs = (int)(people/10)\n",
    "print(\"Minimum number of packages of hot dogs:\", minHotDogs)\n",
    "minHotDogBuns = (int)(people/8)\n",
    "print(\"Minimum number of packages of hot dog buns:\",minHotDogBuns)\n",
    "leftHotDogs = people - minHotDogs*hotDogs\n",
    "print(\"Number of hot dogs left:\",leftHotDogs)\n",
    "leftHotDogBuns = people - minHotDogBuns*hotDogBuns; \n",
    "print(\"Number of hot dog buns left:\", leftHotDogBuns)\n"
   ]
  },
  {
   "cell_type": "markdown",
   "metadata": {},
   "source": [
    "# Roulette Wheel Colors"
   ]
  },
  {
   "cell_type": "code",
   "execution_count": 9,
   "metadata": {},
   "outputs": [
    {
     "name": "stdout",
     "output_type": "stream",
     "text": [
      "Enter a pocket number: 43\n",
      "Pocket 43 is black\n"
     ]
    }
   ],
   "source": [
    "pocketNum = int(input(\"Enter a pocket number: \"))\n",
    "if(pocketNum == 0):\n",
    "    print(\"Pocket 0 is green \")\n",
    "elif(pocketNum >= 1 and pocketNum <= 10):\n",
    "    if(pocketNum%2 != 0):\n",
    "        print(\"Pocket {} is red\".format(pocketNum))\n",
    "    if(pocketNum%2 == 0):\n",
    "        print(\"Pocket {} is black\".format(pocketNum))\n",
    "elif(pocketNum >= 11 and pocketNum >= 18):\n",
    "    if(pocketNum%2 != 0):\n",
    "        print(\"Pocket {} is black\".format(pocketNum))\n",
    "    if(pocketNum%2 == 0):\n",
    "        print(\"Pocket {} is red\".format(pocketNum))\n",
    "elif(pocketNum >= 19 and pocketNum >= 28):\n",
    "    if(pocketNum%2 != 0):\n",
    "        print(\"Pocket {} is red\".format(pocketNum))\n",
    "    if(pocketNum%2 == 0):\n",
    "        print(\"Pocket {} is black\".format(pocketNum))\n",
    "elif(pocketNum >= 29 and pocketNum >= 36):\n",
    "    if(pocketNum%2 != 0):\n",
    "        print(\"Pocket {} is black\".format(pocketNum))\n",
    "    if(pocketNum%2 == 0):\n",
    "        print(\"Pocket {} is red\".format(pocketNum))\n",
    "else:\n",
    "    print(\"Out of range\")"
   ]
  },
  {
   "cell_type": "markdown",
   "metadata": {},
   "source": [
    "# Money Counting Game"
   ]
  },
  {
   "cell_type": "code",
   "execution_count": 10,
   "metadata": {},
   "outputs": [
    {
     "name": "stdout",
     "output_type": "stream",
     "text": [
      "Enter number of pennies: 34\n",
      "Enter number of nickles: 34\n",
      "Enter number of dimes: 43\n",
      "Enter number of quarters: 43\n",
      "More than one dollar\n"
     ]
    }
   ],
   "source": [
    "pennies = int(input(\"Enter number of pennies: \"))\n",
    "nickles = int(input(\"Enter number of nickles: \"))\n",
    "dimes = int(input(\"Enter number of dimes: \"))\n",
    "quarters = int(input(\"Enter number of quarters: \"))\n",
    "money = pennies*1 + nickles*5 + dimes*10 + quarters*25 \n",
    "if(money == 100):\n",
    "    print(\"One Dollar! \")\n",
    "elif(money > 100):\n",
    "    print(\"More than one dollar\")\n",
    "elif(money < 100):\n",
    "    print(\"Less than a dollar\")\n",
    "else:\n",
    "    print(\"An error has occurred! \")"
   ]
  },
  {
   "cell_type": "markdown",
   "metadata": {},
   "source": [
    "# Book Club Points"
   ]
  },
  {
   "cell_type": "code",
   "execution_count": 11,
   "metadata": {},
   "outputs": [
    {
     "name": "stdout",
     "output_type": "stream",
     "text": [
      "Enter the number of books purchased this month: 43\n",
      "60 points awarded\n"
     ]
    }
   ],
   "source": [
    "purchaseAmount = int(input(\"Enter the number of books purchased this month: \"))\n",
    "if(purchaseAmount == 0):\n",
    "    print(\"0 points awarded.\")\n",
    "elif(purchaseAmount == 2):\n",
    "    print(\"5 points awarded\")\n",
    "elif(purchaseAmount == 4):\n",
    "    print(\"15 points awarded\")\n",
    "elif(purchaseAmount == 6):\n",
    "    print(\"30 points awarded\")\n",
    "elif(purchaseAmount >= 8):\n",
    "    print(\"60 points awarded\")\n",
    "else:\n",
    "    print(\"Unknown points awarded\")"
   ]
  },
  {
   "cell_type": "markdown",
   "metadata": {},
   "source": [
    "# Software Sales"
   ]
  },
  {
   "cell_type": "code",
   "execution_count": 12,
   "metadata": {},
   "outputs": [
    {
     "name": "stdout",
     "output_type": "stream",
     "text": [
      "Enter the number of packages purchased.34\n",
      "Discount is 19.8 and total price is 79.2\n"
     ]
    }
   ],
   "source": [
    "quantity = int(input(\"Enter the number of packages purchased.\"))\n",
    "price = 99; \n",
    "if(quantity >= 10 and quantity <= 19 ):\n",
    "    discount = price*.10; \n",
    "    total = price - discount\n",
    "    print(\"Discount is {} and total price is {}\".format(discount,total))\n",
    "elif(quantity >= 20 and quantity <=49):\n",
    "    discount = price*.20; \n",
    "    total = price - discount\n",
    "    print(\"Discount is {} and total price is {}\".format(discount,total))\n",
    "elif(quantity >= 50 and quantity <=99):\n",
    "    discount = price*.30; \n",
    "    total = price - discount\n",
    "    print(\"Discount is {} and total price is {}\".format(discount,total))\n",
    "elif(quantity >= 100):\n",
    "    discount = price*.40; \n",
    "    total = price - discount\n",
    "    print(\"Discount is {} and total price is {}\".format(discount,total))\n",
    "else:\n",
    "    print(\"No discount\")"
   ]
  },
  {
   "cell_type": "markdown",
   "metadata": {},
   "source": [
    "# Shipping Charges"
   ]
  },
  {
   "cell_type": "code",
   "execution_count": 13,
   "metadata": {},
   "outputs": [
    {
     "name": "stdout",
     "output_type": "stream",
     "text": [
      "Enter the weight of a package: 34\n",
      "Shipping charge is $161.5\n"
     ]
    }
   ],
   "source": [
    "wPackage = int(input(\"Enter the weight of a package: \"))\n",
    "if(wPackage <= 2):\n",
    "    charge = wPackage*1.50\n",
    "    print(\"Shipping charge is ${}\".format(charge))\n",
    "elif(wPackage > 2 and wPackage <= 6):\n",
    "    charge = wPackage*3.00\n",
    "    print(\"Shipping charge is ${}\".format(charge))\n",
    "elif(wPackage > 6 and wPackage <= 10):\n",
    "    charge = wPackage*4.00\n",
    "    print(\"Shipping charge is ${}\".format(charge))\n",
    "elif(wPackage > 10):\n",
    "    charge = wPackage*4.75\n",
    "    print(\"Shipping charge is ${}\".format(charge))\n"
   ]
  },
  {
   "cell_type": "markdown",
   "metadata": {},
   "source": [
    "# Body Mass Index"
   ]
  },
  {
   "cell_type": "code",
   "execution_count": 14,
   "metadata": {},
   "outputs": [
    {
     "name": "stdout",
     "output_type": "stream",
     "text": [
      "Enter weight in pounds: 432\n",
      "Enter height in inches: 43\n",
      "Overweight\n"
     ]
    }
   ],
   "source": [
    "weight = int(input(\"Enter weight in pounds: \"))\n",
    "height = int(input(\"Enter height in inches: \"))\n",
    "bmi = weight*703/(height*height)\n",
    "if(bmi >= 18.5 and bmi <= 25):\n",
    "    print(\"Optimal\")\n",
    "elif(bmi < 18.5):\n",
    "    print(\"Underweight\")\n",
    "elif(bmi > 25):\n",
    "    print(\"Overweight\")\n"
   ]
  },
  {
   "cell_type": "markdown",
   "metadata": {},
   "source": [
    "# Time Calculator"
   ]
  },
  {
   "cell_type": "code",
   "execution_count": 15,
   "metadata": {},
   "outputs": [
    {
     "name": "stdout",
     "output_type": "stream",
     "text": [
      "Enter number of seconds: 324\n",
      "5.4 minutes\n"
     ]
    }
   ],
   "source": [
    "seconds = int(input(\"Enter number of seconds: \"))\n",
    "if(seconds >= 60):\n",
    "    minutes = seconds/60;\n",
    "    print(\"{} minutes\".format(minutes))\n",
    "elif(seconds >= 3600):\n",
    "    hours = seconds/3600;\n",
    "    print(\"{} hours\".format(hours))\n",
    "if(seconds >= 86400):\n",
    "    days = seconds/86400;\n",
    "    print(\"{}\".format(days))"
   ]
  }
 ],
 "metadata": {
  "kernelspec": {
   "display_name": "Python 3",
   "language": "python",
   "name": "python3"
  },
  "language_info": {
   "codemirror_mode": {
    "name": "ipython",
    "version": 3
   },
   "file_extension": ".py",
   "mimetype": "text/x-python",
   "name": "python",
   "nbconvert_exporter": "python",
   "pygments_lexer": "ipython3",
   "version": "3.6.5"
  }
 },
 "nbformat": 4,
 "nbformat_minor": 2
}
